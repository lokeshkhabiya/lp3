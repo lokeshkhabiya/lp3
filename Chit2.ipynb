{
 "cells": [
  {
   "cell_type": "markdown",
   "id": "a6581942-abd6-428d-89aa-2b451ac5202e",
   "metadata": {},
   "source": [
    "# 2. Write a program to implement Huffman Encoding using a greedy strategy & Write a smart contract on a test network, for Bank account of a customer for following operations: \n",
    "- Deposit money\n",
    "- Withdraw Money\n",
    "- Show balance"
   ]
  },
  {
   "cell_type": "code",
   "execution_count": 1,
   "id": "6e7e305a-ec48-4d4e-a9b8-47fefa908d0a",
   "metadata": {},
   "outputs": [],
   "source": [
    "# 1 Write a program to implement huffman encoding using a greedy strategy"
   ]
  },
  {
   "cell_type": "code",
   "execution_count": 2,
   "id": "36a8b7e9-5fe1-439e-b74a-c875d7d79dda",
   "metadata": {},
   "outputs": [],
   "source": [
    "import heapq"
   ]
  },
  {
   "cell_type": "code",
   "execution_count": 3,
   "id": "e482efef-fa01-4e6b-b445-a04672fb9ee2",
   "metadata": {},
   "outputs": [],
   "source": [
    "class HuffmanNode:\n",
    "    def __init__(self, char, freq):\n",
    "        self.char = char\n",
    "        self.freq = freq\n",
    "        self.left = None\n",
    "        self.right = None\n",
    "    def __lt__(self, other):\n",
    "        return self.freq < other.freq"
   ]
  },
  {
   "cell_type": "code",
   "execution_count": 4,
   "id": "9d5b6d7d-c416-4fca-a847-a4c1950fb7e0",
   "metadata": {},
   "outputs": [],
   "source": [
    "def generate_codes(root, current_code, codes):\n",
    "    if root is None:\n",
    "        return\n",
    "    if root.char is not None:\n",
    "        codes[root.char] = current_code\n",
    "    generate_codes(root.left, current_code + \"0\", codes)\n",
    "    generate_codes(root.right, current_code + \"1\", codes)"
   ]
  },
  {
   "cell_type": "code",
   "execution_count": 5,
   "id": "e10545d0-bfe1-4aff-83d8-c842f26e3875",
   "metadata": {},
   "outputs": [],
   "source": [
    "def build_huffman_tree(frequency):\n",
    "    heap = []\n",
    "    for char, freq in frequency.items():\n",
    "        heapq.heappush(heap, HuffmanNode(char, freq))\n",
    "    while len(heap) > 1:\n",
    "        node1 = heapq.heappop(heap)\n",
    "        node2 = heapq.heappop(heap)\n",
    "        merged = HuffmanNode(None, node1.freq + node2.freq)\n",
    "        merged.left = node1\n",
    "        merged.right = node2\n",
    "        heapq.heappush(heap, merged)\n",
    "    return heapq.heappop(heap)"
   ]
  },
  {
   "cell_type": "code",
   "execution_count": 6,
   "id": "8f5db59f-ff4a-4006-b4c5-e18e4f4d2c3a",
   "metadata": {},
   "outputs": [],
   "source": [
    "def calculate_frequency(data):\n",
    "    freq = {}\n",
    "\n",
    "    for char in data:\n",
    "        if char not in freq:\n",
    "            freq[char] = 0\n",
    "        freq[char] += 1\n",
    "        \n",
    "    return freq"
   ]
  },
  {
   "cell_type": "code",
   "execution_count": 7,
   "id": "7d1f50eb-4f15-4e0b-b90a-aee2a1dedc14",
   "metadata": {},
   "outputs": [],
   "source": [
    "# Huffman encoding \n",
    "def huffman_encoding(data):\n",
    "    freq = calculate_frequency(data)\n",
    "    huffman_tree_root = build_huffman_tree(freq)\n",
    "    codes = {}\n",
    "    generate_codes(huffman_tree_root, \"\", codes)\n",
    "    encoded_data = \"\".join([codes[char] for char in data])\n",
    "    return encoded_data, huffman_tree_root"
   ]
  },
  {
   "cell_type": "code",
   "execution_count": 8,
   "id": "71cabbf8-e45b-4a7f-a03a-3cd177e0269d",
   "metadata": {},
   "outputs": [],
   "source": [
    "# Huffman decoding\n",
    "def huffman_decoding(encoded_data, huffman_tree_root):\n",
    "    decoded_data = \"\"\n",
    "    current_node = huffman_tree_root\n",
    "    for bit in encoded_data:\n",
    "        if bit == \"0\":\n",
    "            current_node = current_node.left\n",
    "        if bit == \"1\":\n",
    "            current_node = current_node.right\n",
    "        if current_node.left is None and current_node.right is None: \n",
    "            decoded_data += current_node.char\n",
    "            current_node = huffman_tree_root\n",
    "    return decoded_data"
   ]
  },
  {
   "cell_type": "code",
   "execution_count": 9,
   "id": "224f20d2-4172-4430-abfe-a2b68f2bcbc9",
   "metadata": {},
   "outputs": [
    {
     "name": "stdin",
     "output_type": "stream",
     "text": [
      "Enter the text for Huffman Encoding:  Hello My Name is Lokesh\n"
     ]
    },
    {
     "name": "stdout",
     "output_type": "stream",
     "text": [
      "Encoded Data: 101001001111111111010110101101100111000001111001100010010000011110111011011110000011100\n",
      "Decoded Data: Hello My Name is Lokesh\n"
     ]
    }
   ],
   "source": [
    "if __name__ == \"__main__\":\n",
    "    data = input(\"Enter the text for Huffman Encoding: \")\n",
    "    encoded_data, huffman_tree_root = huffman_encoding(data)\n",
    "    print(f\"Encoded Data: {encoded_data}\")\n",
    "    decoded_data = huffman_decoding(encoded_data, huffman_tree_root)\n",
    "    print(f\"Decoded Data: {decoded_data}\")"
   ]
  },
  {
   "cell_type": "code",
   "execution_count": null,
   "id": "4fd1927d-da09-488a-a3b7-7f4bfb60497e",
   "metadata": {},
   "outputs": [],
   "source": []
  },
  {
   "cell_type": "markdown",
   "id": "97a4e473-76a4-42de-bb64-b038122ac3f5",
   "metadata": {},
   "source": [
    "#### 2. \n",
    "Code: \n",
    "// SPDX-License-Identifier: Unlicensed\n",
    "pragma solidity ^0.8.0;\n",
    "\n",
    "contract MyBank {\n",
    "    mapping(address => uint) private _balances;\n",
    "    address public owner;\n",
    "    event LogDepositMade(address accountHolder, uint amount);\n",
    "\n",
    "    constructor() {\n",
    "        owner = msg.sender;\n",
    "        emit LogDepositMade(msg.sender, 1000);\n",
    "    }\n",
    "\n",
    "    function deposit() public payable returns (uint) {\n",
    "        require(msg.sender != address(0), \"Invalid address\");\n",
    "        require((_balances[msg.sender] + msg.value) > _balances[msg.sender], \"Deposit error\");\n",
    "\n",
    "        _balances[msg.sender] += msg.value;\n",
    "        emit LogDepositMade(msg.sender, msg.value);\n",
    "        return _balances[msg.sender];\n",
    "    }\n",
    "\n",
    "    function withdraw(uint withdrawAmount) public returns (uint) {\n",
    "        require(_balances[msg.sender] >= withdrawAmount, \"Insufficient balance\");\n",
    "        require(msg.sender != address(0), \"Invalid address\");\n",
    "\n",
    "        _balances[msg.sender] -= withdrawAmount;\n",
    "\n",
    "        // Using .call instead of .transfer for sending Ether\n",
    "        (bool success, ) = msg.sender.call{value: withdrawAmount}(\"\");\n",
    "        require(success, \"Withdrawal failed\");\n",
    "\n",
    "        emit LogDepositMade(msg.sender, withdrawAmount);\n",
    "        return _balances[msg.sender];\n",
    "    }\n",
    "\n",
    "    function viewBalance() public view returns (uint) {\n",
    "        return _balances[msg.sender];\n",
    "    }\n",
    "}\n"
   ]
  }
 ],
 "metadata": {
  "kernelspec": {
   "display_name": "Python 3 (ipykernel)",
   "language": "python",
   "name": "python3"
  },
  "language_info": {
   "codemirror_mode": {
    "name": "ipython",
    "version": 3
   },
   "file_extension": ".py",
   "mimetype": "text/x-python",
   "name": "python",
   "nbconvert_exporter": "python",
   "pygments_lexer": "ipython3",
   "version": "3.11.0"
  }
 },
 "nbformat": 4,
 "nbformat_minor": 5
}
