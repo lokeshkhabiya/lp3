{
 "cells": [
  {
   "cell_type": "markdown",
   "id": "15fd27ac-4e79-49fa-8806-af140336cc7a",
   "metadata": {},
   "source": [
    "## 4. Write a program to solve a 0-1 Knapsack problem using dynamic programming or branch and bound strategy & Write a program in solidity to create Student data. Use the following constructs:\n",
    "- Structures\n",
    "- Arrays\n",
    "- Fallback Deploy this as smart contract on Ethereum and Observe the transaction fee and Gas values"
   ]
  },
  {
   "cell_type": "code",
   "execution_count": 4,
   "id": "44b458de-99cf-4c27-8734-f3f384795d0e",
   "metadata": {},
   "outputs": [],
   "source": [
    "# 1 DP sol\n",
    "def knapsack_dp(weights, values, capacity):\n",
    "    n = len(values)\n",
    "\n",
    "    dp = [[0 for _ in range(capacity + 1)] for _ in range(n + 1)]\n",
    "    for i in range(1, n + 1):\n",
    "        for w in range(1, capacity + 1):\n",
    "            if weights[i - 1] <= w:\n",
    "                dp[i][w] = max(dp[i - 1][w], dp[i - 1][w - weights[i - 1]] + values[i - 1])\n",
    "            else: \n",
    "                dp[i][w] = dp[i - 1][w]\n",
    "    return dp[n][capacity]"
   ]
  },
  {
   "cell_type": "code",
   "execution_count": 5,
   "id": "3dfc96e0-5dd4-4f3f-a5e3-760d990f75d2",
   "metadata": {},
   "outputs": [
    {
     "name": "stdout",
     "output_type": "stream",
     "text": [
      "Maximum value in knapsack using dp is: 220\n"
     ]
    }
   ],
   "source": [
    "if __name__ == \"__main__\":\n",
    "    values = [60, 100, 120]\n",
    "    weights = [10, 20, 30]\n",
    "    capacity = 50\n",
    "\n",
    "    max_value = knapsack_dp(weights, values, capacity)\n",
    "    print(f\"Maximum value in knapsack using dp is: { max_value }\")"
   ]
  },
  {
   "cell_type": "code",
   "execution_count": null,
   "id": "996bbb32-46cf-4698-8798-79d28cf553bb",
   "metadata": {},
   "outputs": [],
   "source": []
  },
  {
   "cell_type": "markdown",
   "id": "120b26cb-297d-406a-b58b-4b99915abc36",
   "metadata": {},
   "source": [
    "// SPDX-License-Identifier: Unlicensed\n",
    "// Solidity program to implement\n",
    "// the above approach\n",
    "pragma solidity ^0.8.0;\n",
    "\n",
    "// Build the Contract\n",
    "contract MarksManagmtSys {\n",
    "    // Create a structure for student details\n",
    "    struct Student {\n",
    "        int ID;\n",
    "        string fName;\n",
    "        string lName;\n",
    "        int marks;\n",
    "    }\n",
    "\n",
    "    address public owner;\n",
    "    int public stdCount = 0;  // Count of students\n",
    "    mapping(int => Student) public stdRecords;  // Mapping of student ID to Student struct\n",
    "\n",
    "    modifier onlyOwner {\n",
    "        require(owner == msg.sender, \"Only owner can call this function\");\n",
    "        _;\n",
    "    }\n",
    "\n",
    "    constructor() {\n",
    "        owner = msg.sender;\n",
    "    }\n",
    "\n",
    "    // Create a function to add the new records\n",
    "    function addNewRecords(int _ID, string memory _fName, string memory _lName, int _marks) public onlyOwner {\n",
    "        // Increase the count by 1\n",
    "        stdCount = stdCount + 1;\n",
    "\n",
    "        // Fetch the student details with the help of stdCount\n",
    "        stdRecords[stdCount] = Student(_ID, _fName, _lName, _marks);\n",
    "    }\n",
    "\n",
    "    // Create a function to add bonus marks to a specific student\n",
    "    function bonusMarks(int _stdCount, int _bonus) public onlyOwner {\n",
    "        require(_stdCount > 0 && _stdCount <= stdCount, \"Invalid student index\");\n",
    "        stdRecords[_stdCount].marks += _bonus;\n",
    "    }\n",
    "\n",
    "    // Function to get a student's details by their index\n",
    "    function getStudentDetails(int _stdCount) public view returns (int, string memory, string memory, int) {\n",
    "        require(_stdCount > 0 && _stdCount <= stdCount, \"Invalid student index\");\n",
    "        Student memory student = stdRecords[_stdCount];\n",
    "        return (student.ID, student.fName, student.lName, student.marks);\n",
    "    }\n",
    "\n",
    "    // Fallback function to receive Ether\n",
    "    receive() external payable {}\n",
    "\n",
    "    // Creating the sender contract (for handling Ether transactions)\n",
    "    function transfer(address payable _to, uint256 _amount) public onlyOwner {\n",
    "        require(address(this).balance >= _amount, \"Insufficient balance\");\n",
    "        _to.transfer(_amount);\n",
    "    }\n",
    "}\n",
    "\n"
   ]
  }
 ],
 "metadata": {
  "kernelspec": {
   "display_name": "Python 3 (ipykernel)",
   "language": "python",
   "name": "python3"
  },
  "language_info": {
   "codemirror_mode": {
    "name": "ipython",
    "version": 3
   },
   "file_extension": ".py",
   "mimetype": "text/x-python",
   "name": "python",
   "nbconvert_exporter": "python",
   "pygments_lexer": "ipython3",
   "version": "3.11.0"
  }
 },
 "nbformat": 4,
 "nbformat_minor": 5
}
