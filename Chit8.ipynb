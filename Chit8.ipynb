{
 "cells": [
  {
   "cell_type": "markdown",
   "id": "6b034384-9dbc-4511-8a4d-4a19e5609090",
   "metadata": {},
   "source": [
    "8. Given a bank customer, build a neural network-based classifier that can\n",
    "determine whether they will leave or not in the next 6 months. Dataset\n",
    "Description: The case study is from an open-source dataset from Kaggle. The\n",
    "dataset contains 10,000 sample points with 14 distinct features such as\n",
    "CustomerId, CreditScore, Geography, Gender, Age, Tenure, Balance, etc.\n",
    "Link to the Kaggle project: https://www.kaggle.com/barelydedicated/bank-customer-churn-modeling\n",
    "Perform following steps: 1. Read the dataset. 2. Distinguish the feature and\n",
    "target set and divide the data set into training and test sets. 3. Normalize the\n",
    "train and test data. 4. Initialize and build the model. Identify the points of\n",
    "improvement and implement the same. 5. Print the accuracy score and\n",
    "confusion matrix (5 points).\n",
    "&\n",
    "Write a program to implement Huffman Encoding using a greedy strategy."
   ]
  },
  {
   "cell_type": "code",
   "execution_count": 2,
   "id": "ccbd212c-b80c-4787-b6bc-964e7ba45aa4",
   "metadata": {},
   "outputs": [],
   "source": [
    "#1 \n",
    "import pandas as pd\n",
    "import tensorflow as tf\n",
    "from tensorflow import keras\n",
    "from sklearn.metrics import accuracy_score, confusion_matrix\n",
    "from sklearn.model_selection import train_test_split\n",
    "from sklearn.preprocessing import MinMaxScaler"
   ]
  },
  {
   "cell_type": "code",
   "execution_count": 3,
   "id": "958f46c8-50d8-4a7d-ac45-c78b0719e251",
   "metadata": {},
   "outputs": [
    {
     "data": {
      "text/html": [
       "<div>\n",
       "<style scoped>\n",
       "    .dataframe tbody tr th:only-of-type {\n",
       "        vertical-align: middle;\n",
       "    }\n",
       "\n",
       "    .dataframe tbody tr th {\n",
       "        vertical-align: top;\n",
       "    }\n",
       "\n",
       "    .dataframe thead th {\n",
       "        text-align: right;\n",
       "    }\n",
       "</style>\n",
       "<table border=\"1\" class=\"dataframe\">\n",
       "  <thead>\n",
       "    <tr style=\"text-align: right;\">\n",
       "      <th></th>\n",
       "      <th>RowNumber</th>\n",
       "      <th>CustomerId</th>\n",
       "      <th>Surname</th>\n",
       "      <th>CreditScore</th>\n",
       "      <th>Geography</th>\n",
       "      <th>Gender</th>\n",
       "      <th>Age</th>\n",
       "      <th>Tenure</th>\n",
       "      <th>Balance</th>\n",
       "      <th>NumOfProducts</th>\n",
       "      <th>HasCrCard</th>\n",
       "      <th>IsActiveMember</th>\n",
       "      <th>EstimatedSalary</th>\n",
       "      <th>Exited</th>\n",
       "    </tr>\n",
       "  </thead>\n",
       "  <tbody>\n",
       "    <tr>\n",
       "      <th>0</th>\n",
       "      <td>1</td>\n",
       "      <td>15634602</td>\n",
       "      <td>Hargrave</td>\n",
       "      <td>619</td>\n",
       "      <td>France</td>\n",
       "      <td>Female</td>\n",
       "      <td>42</td>\n",
       "      <td>2</td>\n",
       "      <td>0.00</td>\n",
       "      <td>1</td>\n",
       "      <td>1</td>\n",
       "      <td>1</td>\n",
       "      <td>101348.88</td>\n",
       "      <td>1</td>\n",
       "    </tr>\n",
       "    <tr>\n",
       "      <th>1</th>\n",
       "      <td>2</td>\n",
       "      <td>15647311</td>\n",
       "      <td>Hill</td>\n",
       "      <td>608</td>\n",
       "      <td>Spain</td>\n",
       "      <td>Female</td>\n",
       "      <td>41</td>\n",
       "      <td>1</td>\n",
       "      <td>83807.86</td>\n",
       "      <td>1</td>\n",
       "      <td>0</td>\n",
       "      <td>1</td>\n",
       "      <td>112542.58</td>\n",
       "      <td>0</td>\n",
       "    </tr>\n",
       "    <tr>\n",
       "      <th>2</th>\n",
       "      <td>3</td>\n",
       "      <td>15619304</td>\n",
       "      <td>Onio</td>\n",
       "      <td>502</td>\n",
       "      <td>France</td>\n",
       "      <td>Female</td>\n",
       "      <td>42</td>\n",
       "      <td>8</td>\n",
       "      <td>159660.80</td>\n",
       "      <td>3</td>\n",
       "      <td>1</td>\n",
       "      <td>0</td>\n",
       "      <td>113931.57</td>\n",
       "      <td>1</td>\n",
       "    </tr>\n",
       "    <tr>\n",
       "      <th>3</th>\n",
       "      <td>4</td>\n",
       "      <td>15701354</td>\n",
       "      <td>Boni</td>\n",
       "      <td>699</td>\n",
       "      <td>France</td>\n",
       "      <td>Female</td>\n",
       "      <td>39</td>\n",
       "      <td>1</td>\n",
       "      <td>0.00</td>\n",
       "      <td>2</td>\n",
       "      <td>0</td>\n",
       "      <td>0</td>\n",
       "      <td>93826.63</td>\n",
       "      <td>0</td>\n",
       "    </tr>\n",
       "    <tr>\n",
       "      <th>4</th>\n",
       "      <td>5</td>\n",
       "      <td>15737888</td>\n",
       "      <td>Mitchell</td>\n",
       "      <td>850</td>\n",
       "      <td>Spain</td>\n",
       "      <td>Female</td>\n",
       "      <td>43</td>\n",
       "      <td>2</td>\n",
       "      <td>125510.82</td>\n",
       "      <td>1</td>\n",
       "      <td>1</td>\n",
       "      <td>1</td>\n",
       "      <td>79084.10</td>\n",
       "      <td>0</td>\n",
       "    </tr>\n",
       "  </tbody>\n",
       "</table>\n",
       "</div>"
      ],
      "text/plain": [
       "   RowNumber  CustomerId   Surname  CreditScore Geography  Gender  Age  \\\n",
       "0          1    15634602  Hargrave          619    France  Female   42   \n",
       "1          2    15647311      Hill          608     Spain  Female   41   \n",
       "2          3    15619304      Onio          502    France  Female   42   \n",
       "3          4    15701354      Boni          699    France  Female   39   \n",
       "4          5    15737888  Mitchell          850     Spain  Female   43   \n",
       "\n",
       "   Tenure    Balance  NumOfProducts  HasCrCard  IsActiveMember  \\\n",
       "0       2       0.00              1          1               1   \n",
       "1       1   83807.86              1          0               1   \n",
       "2       8  159660.80              3          1               0   \n",
       "3       1       0.00              2          0               0   \n",
       "4       2  125510.82              1          1               1   \n",
       "\n",
       "   EstimatedSalary  Exited  \n",
       "0        101348.88       1  \n",
       "1        112542.58       0  \n",
       "2        113931.57       1  \n",
       "3         93826.63       0  \n",
       "4         79084.10       0  "
      ]
     },
     "execution_count": 3,
     "metadata": {},
     "output_type": "execute_result"
    }
   ],
   "source": [
    "data = pd.read_csv('/Users/lokeshkhabiya/FourthYearStuff/practicals/lp-3/ML/Dataset/Churn_Modelling.csv')\n",
    "data.head()"
   ]
  },
  {
   "cell_type": "code",
   "execution_count": 4,
   "id": "eda362a8-7c6d-4fae-894b-f57f9af2f24b",
   "metadata": {},
   "outputs": [],
   "source": [
    "X = data.drop(columns=['Exited', 'CustomerId', 'Surname', 'RowNumber'])  # Exclude columns\n",
    "y = data['Exited']  # Target"
   ]
  },
  {
   "cell_type": "code",
   "execution_count": 5,
   "id": "bb9ff503-caba-4c02-9d08-f74abe81849c",
   "metadata": {},
   "outputs": [
    {
     "name": "stdout",
     "output_type": "stream",
     "text": [
      "Index(['CreditScore', 'Geography', 'Gender', 'Age', 'Tenure', 'Balance',\n",
      "       'NumOfProducts', 'HasCrCard', 'IsActiveMember', 'EstimatedSalary',\n",
      "       'Exited'],\n",
      "      dtype='object')\n"
     ]
    }
   ],
   "source": [
    "# Removing rows with missing values:\n",
    "data = data.drop(['CustomerId', 'Surname', 'RowNumber'], axis = 1)\n",
    "print(data.columns)"
   ]
  },
  {
   "cell_type": "code",
   "execution_count": 6,
   "id": "0c85200e-5643-458c-b56b-377578ffb928",
   "metadata": {},
   "outputs": [],
   "source": [
    "# columns 'Geography' and 'Gender' are present in the DataFrame X\n",
    "# Add additional error handling to verify the column names\n",
    "columns_to_encode = ['Geography', 'Gender']\n",
    "for column in columns_to_encode:\n",
    "    if column not in X.columns:\n",
    "        raise ValueError(f\"Column '{column}' not found in the DataFrame X.\")\n",
    "\n",
    "# encode categorical variables like \"Geography\" and \"Gender\" into numerical format using one-hot encoding.\n",
    "X = pd.get_dummies(X, columns=['Geography', 'Gender'], drop_first=True)"
   ]
  },
  {
   "cell_type": "code",
   "execution_count": 7,
   "id": "8a5c0866-21e8-48b0-8564-304ec51c4682",
   "metadata": {},
   "outputs": [],
   "source": [
    "scaler = MinMaxScaler()\n",
    "X = scaler.fit_transform(X)"
   ]
  },
  {
   "cell_type": "code",
   "execution_count": 8,
   "id": "a5acd391-9d24-467c-b0ce-8c8c41e2db77",
   "metadata": {},
   "outputs": [],
   "source": [
    "# Step 5: Initialize and Build the Model\n",
    "model = keras.Sequential([\n",
    "    keras.layers.Dense(64, activation='relu', input_shape=(X.shape[1],)),\n",
    "    keras.layers.Dense(32, activation='relu'),\n",
    "    keras.layers.Dense(1, activation='sigmoid')\n",
    "])"
   ]
  },
  {
   "cell_type": "code",
   "execution_count": 9,
   "id": "299816dd-21ff-4540-beb2-efa6ffe3e0f0",
   "metadata": {},
   "outputs": [],
   "source": [
    "model.compile(optimizer='adam', loss='binary_crossentropy', metrics=['accuracy'])"
   ]
  },
  {
   "cell_type": "code",
   "execution_count": 10,
   "id": "973fdcc2-850c-4109-af4e-4da4db6c25e7",
   "metadata": {},
   "outputs": [
    {
     "name": "stdout",
     "output_type": "stream",
     "text": [
      "Epoch 1/20\n"
     ]
    },
    {
     "name": "stderr",
     "output_type": "stream",
     "text": [
      "2024-11-07 21:18:56.198999: W tensorflow/tsl/platform/profile_utils/cpu_utils.cc:128] Failed to get CPU frequency: 0 Hz\n"
     ]
    },
    {
     "name": "stdout",
     "output_type": "stream",
     "text": [
      "250/250 [==============================] - 0s 405us/step - loss: 0.4804 - accuracy: 0.7979\n",
      "Epoch 2/20\n",
      "250/250 [==============================] - 0s 378us/step - loss: 0.4426 - accuracy: 0.8120\n",
      "Epoch 3/20\n",
      "250/250 [==============================] - 0s 385us/step - loss: 0.4186 - accuracy: 0.8199\n",
      "Epoch 4/20\n",
      "250/250 [==============================] - 0s 367us/step - loss: 0.3923 - accuracy: 0.8346\n",
      "Epoch 5/20\n",
      "250/250 [==============================] - 0s 372us/step - loss: 0.3742 - accuracy: 0.8416\n",
      "Epoch 6/20\n",
      "250/250 [==============================] - 0s 372us/step - loss: 0.3649 - accuracy: 0.8472\n",
      "Epoch 7/20\n",
      "250/250 [==============================] - 0s 368us/step - loss: 0.3580 - accuracy: 0.8494\n",
      "Epoch 8/20\n",
      "250/250 [==============================] - 0s 378us/step - loss: 0.3541 - accuracy: 0.8533\n",
      "Epoch 9/20\n",
      "250/250 [==============================] - 0s 533us/step - loss: 0.3510 - accuracy: 0.8543\n",
      "Epoch 10/20\n",
      "250/250 [==============================] - 0s 379us/step - loss: 0.3484 - accuracy: 0.8561\n",
      "Epoch 11/20\n",
      "250/250 [==============================] - 0s 368us/step - loss: 0.3474 - accuracy: 0.8534\n",
      "Epoch 12/20\n",
      "250/250 [==============================] - 0s 380us/step - loss: 0.3453 - accuracy: 0.8559\n",
      "Epoch 13/20\n",
      "250/250 [==============================] - 0s 386us/step - loss: 0.3427 - accuracy: 0.8554\n",
      "Epoch 14/20\n",
      "250/250 [==============================] - 0s 376us/step - loss: 0.3427 - accuracy: 0.8566\n",
      "Epoch 15/20\n",
      "250/250 [==============================] - 0s 368us/step - loss: 0.3409 - accuracy: 0.8587\n",
      "Epoch 16/20\n",
      "250/250 [==============================] - 0s 391us/step - loss: 0.3397 - accuracy: 0.8583\n",
      "Epoch 17/20\n",
      "250/250 [==============================] - 0s 505us/step - loss: 0.3394 - accuracy: 0.8564\n",
      "Epoch 18/20\n",
      "250/250 [==============================] - 0s 494us/step - loss: 0.3385 - accuracy: 0.8579\n",
      "Epoch 19/20\n",
      "250/250 [==============================] - 0s 463us/step - loss: 0.3367 - accuracy: 0.8616\n",
      "Epoch 20/20\n",
      "250/250 [==============================] - 0s 407us/step - loss: 0.3359 - accuracy: 0.8625\n"
     ]
    },
    {
     "data": {
      "text/plain": [
       "<keras.callbacks.History at 0x15ac8e7d0>"
      ]
     },
     "execution_count": 10,
     "metadata": {},
     "output_type": "execute_result"
    }
   ],
   "source": [
    "# Split the data into training and testing sets\n",
    "X_train, X_test, y_train, y_test = train_test_split(X, y, test_size=0.2, random_state=42)\n",
    "\n",
    "# Train the model\n",
    "model.fit(X_train, y_train, epochs=20, batch_size=32, verbose=1)"
   ]
  },
  {
   "cell_type": "code",
   "execution_count": 11,
   "id": "2b15ecec-05da-4ff3-8b77-fc286ab4786f",
   "metadata": {},
   "outputs": [
    {
     "name": "stdout",
     "output_type": "stream",
     "text": [
      "63/63 [==============================] - 0s 299us/step\n"
     ]
    }
   ],
   "source": [
    "# Step 6: Evaluate the Model\n",
    "y_pred = model.predict(X_test)\n",
    "y_pred = (y_pred > 0.5).astype(int)"
   ]
  },
  {
   "cell_type": "code",
   "execution_count": 12,
   "id": "ff4c4eea-69ef-461c-a2e4-ef0d8c84caf5",
   "metadata": {},
   "outputs": [
    {
     "name": "stdout",
     "output_type": "stream",
     "text": [
      "Accuracy: 0.861\n",
      "Confusion Matrix:\n",
      "[[1548   59]\n",
      " [ 219  174]]\n"
     ]
    }
   ],
   "source": [
    "accuracy = accuracy_score(y_test, y_pred)\n",
    "confusion = confusion_matrix(y_test, y_pred)\n",
    "\n",
    "print(f\"Accuracy: {accuracy}\")\n",
    "print(\"Confusion Matrix:\")\n",
    "print(confusion)"
   ]
  },
  {
   "cell_type": "code",
   "execution_count": null,
   "id": "0b1e5d94-bc97-479a-ae72-f5db1ac67c16",
   "metadata": {},
   "outputs": [],
   "source": []
  },
  {
   "cell_type": "code",
   "execution_count": 13,
   "id": "cd4b9607-9f54-4574-b108-ea0788f7e61d",
   "metadata": {},
   "outputs": [],
   "source": [
    "#2 \n",
    "import heapq "
   ]
  },
  {
   "cell_type": "code",
   "execution_count": 14,
   "id": "f3cfa18a-32ef-43c8-aa02-e39d784b0fd7",
   "metadata": {},
   "outputs": [],
   "source": [
    "class HuffmanNode:\n",
    "    def __init__(self, char, freq):\n",
    "        self.char = char\n",
    "        self.freq = freq\n",
    "        self.left = None\n",
    "        self.right = None\n",
    "    \n",
    "    def __lt__(self, other):\n",
    "        return self.freq < other.freq"
   ]
  },
  {
   "cell_type": "code",
   "execution_count": 15,
   "id": "270338c1-548e-4447-a4fb-95a7db1478c2",
   "metadata": {},
   "outputs": [],
   "source": [
    "def generate_codes(root, current_code, codes):\n",
    "    if root is None:\n",
    "        return\n",
    "    if root.char is not None:\n",
    "        codes[root.char] = current_code\n",
    "    generate_codes(root.left, current_code + \"0\", codes)\n",
    "    generate_codes(root.right, current_code + \"1\", codes)"
   ]
  },
  {
   "cell_type": "code",
   "execution_count": 16,
   "id": "6b08a79d-c5ca-4108-bd59-2e31dc412cee",
   "metadata": {},
   "outputs": [],
   "source": [
    "def build_huffman_tree(frequency):\n",
    "    heap = []\n",
    "    for char, freq in frequency.items():\n",
    "        heapq.heappush(heap, HuffmanNode(char, freq))\n",
    "    while len(heap) > 1:\n",
    "        node1 = heapq.heappop(heap)\n",
    "        node2 = heapq.heappop(heap)\n",
    "        merged = HuffmanNode(None, node1.freq + node2.freq)\n",
    "        merged.left = node1\n",
    "        merged.right = node2\n",
    "        heapq.heappush(heap, merged)\n",
    "    return heapq.heappop(heap)"
   ]
  },
  {
   "cell_type": "code",
   "execution_count": 17,
   "id": "073de480-2f8e-4393-ad07-5ed5b3d6313b",
   "metadata": {},
   "outputs": [],
   "source": [
    "def calculate_frequency(data):\n",
    "    frequency = {}\n",
    "\n",
    "    for char in data:\n",
    "        if char not in frequency:\n",
    "            frequency[char] = 0\n",
    "        frequency[char] += 1\n",
    "    return frequency"
   ]
  },
  {
   "cell_type": "code",
   "execution_count": 18,
   "id": "f7be5a3a-c26f-4001-84bf-dc952a8e35c2",
   "metadata": {},
   "outputs": [],
   "source": [
    "def huffman_encoding(data):\n",
    "    frequency = calculate_frequency(data)\n",
    "    huffman_tree_root = build_huffman_tree(frequency)\n",
    "    codes = {}\n",
    "    generate_codes(huffman_tree_root, \"\", codes)\n",
    "    # Encode the input data\n",
    "    encoded_data = \"\".join([codes[char] for char in data])\n",
    "    return encoded_data, huffman_tree_root\n",
    "\n",
    "def huffman_decoding(encoded_data, huffman_tree_root):\n",
    "    decoded_data = \"\"\n",
    "    current_node = huffman_tree_root\n",
    "    for bit in encoded_data:\n",
    "        if bit == '0':\n",
    "            current_node = current_node.left\n",
    "        else:\n",
    "            current_node = current_node.right\n",
    "        if current_node.left is None and current_node.right is None:\n",
    "            decoded_data += current_node.char\n",
    "            current_node = huffman_tree_root\n",
    "    return decoded_data"
   ]
  },
  {
   "cell_type": "code",
   "execution_count": 19,
   "id": "dfc6d5ea-9374-45f1-ab47-5f3c7e0cdf98",
   "metadata": {},
   "outputs": [
    {
     "name": "stdin",
     "output_type": "stream",
     "text": [
      "Enter the text for Huffman Encoding:  My Name is Lokesh\n"
     ]
    },
    {
     "name": "stdout",
     "output_type": "stream",
     "text": [
      "Encoded Data: 0110110011110101101011101011110111001110010001100000101000001\n",
      "Decoded Data: My Name is Lokesh\n"
     ]
    }
   ],
   "source": [
    "if __name__ == \"__main__\":\n",
    "    data = input(\"Enter the text for Huffman Encoding: \")\n",
    "    encoded_data, huffman_tree_root = huffman_encoding(data)\n",
    "    print(f\"Encoded Data: {encoded_data}\")\n",
    "    decoded_data = huffman_decoding(encoded_data, huffman_tree_root)\n",
    "    print(f\"Decoded Data: {decoded_data}\")"
   ]
  },
  {
   "cell_type": "code",
   "execution_count": null,
   "id": "c468479b-d855-4d6c-8636-26a56eee5124",
   "metadata": {},
   "outputs": [],
   "source": []
  }
 ],
 "metadata": {
  "kernelspec": {
   "display_name": "Python 3 (ipykernel)",
   "language": "python",
   "name": "python3"
  },
  "language_info": {
   "codemirror_mode": {
    "name": "ipython",
    "version": 3
   },
   "file_extension": ".py",
   "mimetype": "text/x-python",
   "name": "python",
   "nbconvert_exporter": "python",
   "pygments_lexer": "ipython3",
   "version": "3.11.0"
  }
 },
 "nbformat": 4,
 "nbformat_minor": 5
}
