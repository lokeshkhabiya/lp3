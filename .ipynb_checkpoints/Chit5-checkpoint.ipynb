{
 "cells": [
  {
   "cell_type": "markdown",
   "id": "8b02a756-aef7-4967-bd66-fc035be91ac9",
   "metadata": {},
   "source": [
    "## 5. Design n-Queens matrix having first Queen placed. Use backtracking to place remaining Queens to generate the final n-queen‘s matrix & Write a smart contract on a test network, for Bank account of a customer for following operations:\n",
    "- Deposit money\n",
    "- Withdraw Money\n",
    "- Show balance"
   ]
  },
  {
   "cell_type": "code",
   "execution_count": 1,
   "id": "458b7fab-02e2-40cf-bb95-34e7f97be7a5",
   "metadata": {},
   "outputs": [],
   "source": [
    "# 1\n",
    "import copy"
   ]
  },
  {
   "cell_type": "code",
   "execution_count": 2,
   "id": "75b4b8ac-5bd6-4a57-8279-8e0661cb6b1c",
   "metadata": {},
   "outputs": [],
   "source": [
    "def print_board(board): \n",
    "    for row in board: \n",
    "        print(\" \".join([\"Q\" if x else \".\" for x in row]))\n",
    "    print()"
   ]
  },
  {
   "cell_type": "code",
   "execution_count": 3,
   "id": "0f1f7616-2899-4606-a24e-76c96ba588eb",
   "metadata": {},
   "outputs": [],
   "source": [
    "def is_safe(board, row, col, n):\n",
    "    for i in range(col): \n",
    "        if board[row][i]:\n",
    "            return False\n",
    "\n",
    "    # upper diagonal\n",
    "    for i, j in zip(range(row, -1, -1), range(col, -1, -1)):\n",
    "        if board[i][j]:\n",
    "            return False\n",
    "\n",
    "    # lower diagonal\n",
    "    for i, j in zip(range(row, n, 1), range(col, -1, -1)):\n",
    "        if board[i][j]: \n",
    "            return False\n",
    "    return True"
   ]
  },
  {
   "cell_type": "code",
   "execution_count": 4,
   "id": "38e87e45-c214-458a-a430-9d1a2ca78295",
   "metadata": {},
   "outputs": [],
   "source": [
    "def solve_n_queens_util(board, col, n):\n",
    "    if col >= n:\n",
    "        return True\n",
    "    \n",
    "    for i in range(n):\n",
    "        if is_safe(board, i, col, n):\n",
    "            board[i][col] = 1\n",
    "            if solve_n_queens_util(board, col + 1, n):\n",
    "                return True\n",
    "            board[i][col] = 0\n",
    "    \n",
    "    return False"
   ]
  },
  {
   "cell_type": "code",
   "execution_count": 5,
   "id": "5c7e2ce7-4e12-4deb-9cd6-032b9541f196",
   "metadata": {},
   "outputs": [],
   "source": [
    "def solve_n_queens(n, first_queen_row):\n",
    "    board = [[0 for _ in range(n)] for _ in range(n)]\n",
    "    board[first_queen_row][0] = 1\n",
    "    \n",
    "    if solve_n_queens_util(board, 1, n) == False:\n",
    "        print(\"Solution does not exist\")\n",
    "        return False\n",
    "    \n",
    "    print_board(board)\n",
    "    return True\n"
   ]
  },
  {
   "cell_type": "code",
   "execution_count": 9,
   "id": "74605cbb-1279-4f3e-b03e-289b939ff380",
   "metadata": {},
   "outputs": [
    {
     "name": "stdin",
     "output_type": "stream",
     "text": [
      "Place the first queen in row:  7\n"
     ]
    },
    {
     "name": "stdout",
     "output_type": "stream",
     "text": [
      "Solution for 8-Queens problem with first queen in row 7:\n",
      ". . . Q . . . .\n",
      ". Q . . . . . .\n",
      ". . . . . . Q .\n",
      ". . Q . . . . .\n",
      ". . . . . Q . .\n",
      ". . . . . . . Q\n",
      ". . . . Q . . .\n",
      "Q . . . . . . .\n",
      "\n"
     ]
    },
    {
     "data": {
      "text/plain": [
       "True"
      ]
     },
     "execution_count": 9,
     "metadata": {},
     "output_type": "execute_result"
    }
   ],
   "source": [
    "# driver code \n",
    "n = 8\n",
    "first_queen_row = int(input(\"Place the first queen in row: \"))\n",
    "\n",
    "print(f\"Solution for {n}-Queens problem with first queen in row {first_queen_row}:\")\n",
    "solve_n_queens(n, first_queen_row)"
   ]
  },
  {
   "cell_type": "code",
   "execution_count": null,
   "id": "45edbe02-8c70-4d4b-9abd-d4f0778a3922",
   "metadata": {},
   "outputs": [],
   "source": []
  },
  {
   "cell_type": "markdown",
   "id": "0a01b680-efcf-40b5-9e3b-edd944a35ebc",
   "metadata": {},
   "source": [
    "// SPDX-License-Identifier: Unlicensed\n",
    "pragma solidity ^0.8.0;\n",
    "\n",
    "contract MyBank {\n",
    "    mapping(address => uint) private _balances;\n",
    "    address public owner;\n",
    "    event LogDepositMade(address accountHolder, uint amount);\n",
    "\n",
    "    constructor() {\n",
    "        owner = msg.sender;\n",
    "        emit LogDepositMade(msg.sender, 1000);\n",
    "    }\n",
    "\n",
    "    function deposit() public payable returns (uint) {\n",
    "        require(msg.sender != address(0), \"Invalid address\");\n",
    "        require((_balances[msg.sender] + msg.value) > _balances[msg.sender], \"Deposit error\");\n",
    "\n",
    "        _balances[msg.sender] += msg.value;\n",
    "        emit LogDepositMade(msg.sender, msg.value);\n",
    "        return _balances[msg.sender];\n",
    "    }\n",
    "\n",
    "    function withdraw(uint withdrawAmount) public returns (uint) {\n",
    "        require(_balances[msg.sender] >= withdrawAmount, \"Insufficient balance\");\n",
    "        require(msg.sender != address(0), \"Invalid address\");\n",
    "\n",
    "        _balances[msg.sender] -= withdrawAmount;\n",
    "\n",
    "        // Using .call instead of .transfer for sending Ether\n",
    "        (bool success, ) = msg.sender.call{value: withdrawAmount}(\"\");\n",
    "        require(success, \"Withdrawal failed\");\n",
    "\n",
    "        emit LogDepositMade(msg.sender, withdrawAmount);\n",
    "        return _balances[msg.sender];\n",
    "    }\n",
    "\n",
    "    function viewBalance() public view returns (uint) {\n",
    "        return _balances[msg.sender];\n",
    "    }\n",
    "}\n"
   ]
  }
 ],
 "metadata": {
  "kernelspec": {
   "display_name": "Python 3 (ipykernel)",
   "language": "python",
   "name": "python3"
  },
  "language_info": {
   "codemirror_mode": {
    "name": "ipython",
    "version": 3
   },
   "file_extension": ".py",
   "mimetype": "text/x-python",
   "name": "python",
   "nbconvert_exporter": "python",
   "pygments_lexer": "ipython3",
   "version": "3.11.0"
  }
 },
 "nbformat": 4,
 "nbformat_minor": 5
}
