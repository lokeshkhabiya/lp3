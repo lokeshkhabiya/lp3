{
 "cells": [
  {
   "cell_type": "markdown",
   "id": "b367645d-f297-4f4b-8898-e40b47d1717a",
   "metadata": {},
   "source": [
    "13. Installation of MetaMask and study spending Ether per transaction and\n",
    "Create your own wallet using Metamask for crypto transactions.\n",
    "&\n",
    "Given a bank customer, build a neural network-based classifier that can\n",
    "determine whether they will leave or not in the next 6 months. Dataset\n",
    "Description: The case study is from an open-source dataset from Kaggle. The\n",
    "dataset contains 10,000 sample points with 14 distinct features such as\n",
    "CustomerId, CreditScore, Geography, Gender, Age, Tenure, Balance, etc.\n",
    "Link to the Kaggle project: https://www.kaggle.com/barelydedicated/bank-\n",
    "customer-churn-modeling\n",
    "Perform following steps: 1. Read the dataset. 2. Distinguish the feature and\n",
    "target set and divide the data set into training and test sets. 3. Normalize the\n",
    "train and test data. 4. Initialize and build the model. Identify the points of\n",
    "improvement and implement the same. 5. Print the accuracy score and\n",
    "confusion matrix (5 points)."
   ]
  },
  {
   "cell_type": "markdown",
   "id": "baa38fe0-11e3-4646-8d09-bb2a9294d0a7",
   "metadata": {},
   "source": [
    "## steps \n",
    "### Step 1: Install MetaMask\n",
    "1. **Go to the MetaMask website**: Open your browser and navigate to [https://metamask.io](https://metamask.io).\n",
    "2. **Download the MetaMask Extension**: Click the download button, and select the appropriate extension for your browser (Chrome, Firefox, Edge, or Brave).\n",
    "3. **Install the Extension**: Follow the on-screen prompts to add the MetaMask extension to your browser.\n",
    "4. **Open MetaMask**: Once installed, click on the MetaMask icon in your browser toolbar to open it.\n",
    "\n",
    "### Step 2: Create a New Wallet\n",
    "1. **Get Started**: Click \"Get Started\" on the MetaMask welcome screen.\n",
    "2. **Create a New Wallet**:\n",
    "   - Click \"Create a Wallet.\"\n",
    "   - Set a secure password. This password is needed to unlock MetaMask on your device.\n",
    "   - **Backup your Secret Recovery Phrase**: MetaMask will generate a 12-word seed phrase (Secret Recovery Phrase). Write this down and store it in a secure place. Do not share this phrase with anyone, as it can give access to your wallet.\n",
    "3. **Complete Setup**: After confirming your Secret Recovery Phrase, your wallet setup will be complete.\n",
    "\n",
    "### Step 4: Study Spending Ether per Transaction\n",
    "1. **Understanding Gas Fees**:\n",
    "   - Ether (ETH) is spent for each transaction as \"gas fees,\" which compensate miners for processing and validating transactions on the Ethereum blockchain.\n",
    "   - The gas fee is based on the network demand, transaction complexity, and speed at which you want your transaction processed.\n",
    "2. **Viewing Transaction Fees**:\n",
    "   - When you make a transaction in MetaMask, it will show the estimated gas fee for that transaction.\n",
    "   - You can choose between \"Low,\" \"Medium,\" and \"High\" fees, which affect the transaction speed.\n",
    "3. **Analyze Gas Prices and Costs**:\n",
    "   - For hands-on study, try making a small transaction on the Ethereum test network (e.g., Rinkeby, Goerli) to see how gas fees vary.\n",
    "   - You can also use gas tracking tools (e.g., [Etherscan Gas Tracker](https://etherscan.io/gastracker)) to monitor gas prices over time and understand fee fluctuations."
   ]
  },
  {
   "cell_type": "code",
   "execution_count": 2,
   "id": "1fe7651b-2bf2-4101-95ba-e308599c61bd",
   "metadata": {},
   "outputs": [],
   "source": [
    "#2 \n",
    "import pandas as pd\n",
    "import tensorflow as tf\n",
    "from tensorflow import keras\n",
    "from sklearn.metrics import accuracy_score, confusion_matrix\n",
    "from sklearn.model_selection import train_test_split\n",
    "from sklearn.preprocessing import MinMaxScaler"
   ]
  },
  {
   "cell_type": "code",
   "execution_count": 3,
   "id": "c26a8ae5-70fc-4ca3-a2a6-d37355ce1060",
   "metadata": {},
   "outputs": [
    {
     "data": {
      "text/html": [
       "<div>\n",
       "<style scoped>\n",
       "    .dataframe tbody tr th:only-of-type {\n",
       "        vertical-align: middle;\n",
       "    }\n",
       "\n",
       "    .dataframe tbody tr th {\n",
       "        vertical-align: top;\n",
       "    }\n",
       "\n",
       "    .dataframe thead th {\n",
       "        text-align: right;\n",
       "    }\n",
       "</style>\n",
       "<table border=\"1\" class=\"dataframe\">\n",
       "  <thead>\n",
       "    <tr style=\"text-align: right;\">\n",
       "      <th></th>\n",
       "      <th>RowNumber</th>\n",
       "      <th>CustomerId</th>\n",
       "      <th>Surname</th>\n",
       "      <th>CreditScore</th>\n",
       "      <th>Geography</th>\n",
       "      <th>Gender</th>\n",
       "      <th>Age</th>\n",
       "      <th>Tenure</th>\n",
       "      <th>Balance</th>\n",
       "      <th>NumOfProducts</th>\n",
       "      <th>HasCrCard</th>\n",
       "      <th>IsActiveMember</th>\n",
       "      <th>EstimatedSalary</th>\n",
       "      <th>Exited</th>\n",
       "    </tr>\n",
       "  </thead>\n",
       "  <tbody>\n",
       "    <tr>\n",
       "      <th>0</th>\n",
       "      <td>1</td>\n",
       "      <td>15634602</td>\n",
       "      <td>Hargrave</td>\n",
       "      <td>619</td>\n",
       "      <td>France</td>\n",
       "      <td>Female</td>\n",
       "      <td>42</td>\n",
       "      <td>2</td>\n",
       "      <td>0.00</td>\n",
       "      <td>1</td>\n",
       "      <td>1</td>\n",
       "      <td>1</td>\n",
       "      <td>101348.88</td>\n",
       "      <td>1</td>\n",
       "    </tr>\n",
       "    <tr>\n",
       "      <th>1</th>\n",
       "      <td>2</td>\n",
       "      <td>15647311</td>\n",
       "      <td>Hill</td>\n",
       "      <td>608</td>\n",
       "      <td>Spain</td>\n",
       "      <td>Female</td>\n",
       "      <td>41</td>\n",
       "      <td>1</td>\n",
       "      <td>83807.86</td>\n",
       "      <td>1</td>\n",
       "      <td>0</td>\n",
       "      <td>1</td>\n",
       "      <td>112542.58</td>\n",
       "      <td>0</td>\n",
       "    </tr>\n",
       "    <tr>\n",
       "      <th>2</th>\n",
       "      <td>3</td>\n",
       "      <td>15619304</td>\n",
       "      <td>Onio</td>\n",
       "      <td>502</td>\n",
       "      <td>France</td>\n",
       "      <td>Female</td>\n",
       "      <td>42</td>\n",
       "      <td>8</td>\n",
       "      <td>159660.80</td>\n",
       "      <td>3</td>\n",
       "      <td>1</td>\n",
       "      <td>0</td>\n",
       "      <td>113931.57</td>\n",
       "      <td>1</td>\n",
       "    </tr>\n",
       "    <tr>\n",
       "      <th>3</th>\n",
       "      <td>4</td>\n",
       "      <td>15701354</td>\n",
       "      <td>Boni</td>\n",
       "      <td>699</td>\n",
       "      <td>France</td>\n",
       "      <td>Female</td>\n",
       "      <td>39</td>\n",
       "      <td>1</td>\n",
       "      <td>0.00</td>\n",
       "      <td>2</td>\n",
       "      <td>0</td>\n",
       "      <td>0</td>\n",
       "      <td>93826.63</td>\n",
       "      <td>0</td>\n",
       "    </tr>\n",
       "    <tr>\n",
       "      <th>4</th>\n",
       "      <td>5</td>\n",
       "      <td>15737888</td>\n",
       "      <td>Mitchell</td>\n",
       "      <td>850</td>\n",
       "      <td>Spain</td>\n",
       "      <td>Female</td>\n",
       "      <td>43</td>\n",
       "      <td>2</td>\n",
       "      <td>125510.82</td>\n",
       "      <td>1</td>\n",
       "      <td>1</td>\n",
       "      <td>1</td>\n",
       "      <td>79084.10</td>\n",
       "      <td>0</td>\n",
       "    </tr>\n",
       "  </tbody>\n",
       "</table>\n",
       "</div>"
      ],
      "text/plain": [
       "   RowNumber  CustomerId   Surname  CreditScore Geography  Gender  Age  \\\n",
       "0          1    15634602  Hargrave          619    France  Female   42   \n",
       "1          2    15647311      Hill          608     Spain  Female   41   \n",
       "2          3    15619304      Onio          502    France  Female   42   \n",
       "3          4    15701354      Boni          699    France  Female   39   \n",
       "4          5    15737888  Mitchell          850     Spain  Female   43   \n",
       "\n",
       "   Tenure    Balance  NumOfProducts  HasCrCard  IsActiveMember  \\\n",
       "0       2       0.00              1          1               1   \n",
       "1       1   83807.86              1          0               1   \n",
       "2       8  159660.80              3          1               0   \n",
       "3       1       0.00              2          0               0   \n",
       "4       2  125510.82              1          1               1   \n",
       "\n",
       "   EstimatedSalary  Exited  \n",
       "0        101348.88       1  \n",
       "1        112542.58       0  \n",
       "2        113931.57       1  \n",
       "3         93826.63       0  \n",
       "4         79084.10       0  "
      ]
     },
     "execution_count": 3,
     "metadata": {},
     "output_type": "execute_result"
    }
   ],
   "source": [
    "data = pd.read_csv(\"/Users/lokeshkhabiya/FourthYearStuff/practicals/lp-3/Codes/Datasets/Churn_Modelling.csv\")\n",
    "data.head()"
   ]
  },
  {
   "cell_type": "code",
   "execution_count": 4,
   "id": "2a2f05b3-5241-45d6-a380-fd39ba9866c8",
   "metadata": {},
   "outputs": [],
   "source": [
    "X = data.drop(columns=['Exited', 'CustomerId', 'Surname', 'RowNumber'])  # Exclude columns\n",
    "y = data['Exited']  # Target"
   ]
  },
  {
   "cell_type": "code",
   "execution_count": 5,
   "id": "d9b8c01b-b794-4f14-a901-6c91ba8c0159",
   "metadata": {},
   "outputs": [
    {
     "name": "stdout",
     "output_type": "stream",
     "text": [
      "Index(['CreditScore', 'Geography', 'Gender', 'Age', 'Tenure', 'Balance',\n",
      "       'NumOfProducts', 'HasCrCard', 'IsActiveMember', 'EstimatedSalary',\n",
      "       'Exited'],\n",
      "      dtype='object')\n"
     ]
    }
   ],
   "source": [
    "# Removing rows with missing values:\n",
    "data = data.drop(['CustomerId', 'Surname', 'RowNumber'], axis = 1)\n",
    "print(data.columns)"
   ]
  },
  {
   "cell_type": "code",
   "execution_count": 6,
   "id": "f99207ba-992d-451c-92f3-2aaa12ae78fe",
   "metadata": {},
   "outputs": [],
   "source": [
    "# Add additional error handling to verify the column names\n",
    "columns_to_encode = ['Geography', 'Gender']\n",
    "for column in columns_to_encode:\n",
    "    if column not in X.columns:\n",
    "        raise ValueError(f\"Column '{column}' not found in the DataFrame X.\")\n",
    "\n",
    "# You need to encode categorical variables like \"Geography\" and \"Gender\" into numerical format using one-hot encoding.\n",
    "X = pd.get_dummies(X, columns=['Geography', 'Gender'], drop_first=True)"
   ]
  },
  {
   "cell_type": "code",
   "execution_count": 7,
   "id": "687bc6bc-b6f3-4d6b-a355-712bc85f32eb",
   "metadata": {},
   "outputs": [],
   "source": [
    "scaler = MinMaxScaler()\n",
    "X = scaler.fit_transform(X)"
   ]
  },
  {
   "cell_type": "code",
   "execution_count": 8,
   "id": "c04615f9-b031-4f01-bcfc-5cdbe3c670a8",
   "metadata": {},
   "outputs": [],
   "source": [
    "model = keras.Sequential([\n",
    "    keras.layers.Dense(64, activation='relu', input_shape=(X.shape[1],)),\n",
    "    keras.layers.Dense(32, activation='relu'),\n",
    "    keras.layers.Dense(1, activation='sigmoid')\n",
    "])"
   ]
  },
  {
   "cell_type": "code",
   "execution_count": 9,
   "id": "3998e55d-20c0-4ed2-9030-9d5f95fbcc26",
   "metadata": {},
   "outputs": [],
   "source": [
    "model.compile(optimizer='adam', loss='binary_crossentropy', metrics=['accuracy'])"
   ]
  },
  {
   "cell_type": "code",
   "execution_count": 10,
   "id": "e67d205e-ecd8-46e4-b967-43b100f290bc",
   "metadata": {},
   "outputs": [
    {
     "name": "stdout",
     "output_type": "stream",
     "text": [
      "Epoch 1/20\n"
     ]
    },
    {
     "name": "stderr",
     "output_type": "stream",
     "text": [
      "2024-11-07 22:53:52.563801: W tensorflow/tsl/platform/profile_utils/cpu_utils.cc:128] Failed to get CPU frequency: 0 Hz\n"
     ]
    },
    {
     "name": "stdout",
     "output_type": "stream",
     "text": [
      "250/250 [==============================] - 0s 417us/step - loss: 0.4812 - accuracy: 0.7941\n",
      "Epoch 2/20\n",
      "250/250 [==============================] - 0s 374us/step - loss: 0.4468 - accuracy: 0.8065\n",
      "Epoch 3/20\n",
      "250/250 [==============================] - 0s 369us/step - loss: 0.4314 - accuracy: 0.8138\n",
      "Epoch 4/20\n",
      "250/250 [==============================] - 0s 396us/step - loss: 0.4191 - accuracy: 0.8217\n",
      "Epoch 5/20\n",
      "250/250 [==============================] - 0s 640us/step - loss: 0.4005 - accuracy: 0.8295\n",
      "Epoch 6/20\n",
      "250/250 [==============================] - 0s 369us/step - loss: 0.3831 - accuracy: 0.8393\n",
      "Epoch 7/20\n",
      "250/250 [==============================] - 0s 442us/step - loss: 0.3681 - accuracy: 0.8472\n",
      "Epoch 8/20\n",
      "250/250 [==============================] - 0s 449us/step - loss: 0.3606 - accuracy: 0.8494\n",
      "Epoch 9/20\n",
      "250/250 [==============================] - 0s 464us/step - loss: 0.3560 - accuracy: 0.8522\n",
      "Epoch 10/20\n",
      "250/250 [==============================] - 0s 441us/step - loss: 0.3529 - accuracy: 0.8526\n",
      "Epoch 11/20\n",
      "250/250 [==============================] - 0s 395us/step - loss: 0.3515 - accuracy: 0.8536\n",
      "Epoch 12/20\n",
      "250/250 [==============================] - 0s 672us/step - loss: 0.3497 - accuracy: 0.8505\n",
      "Epoch 13/20\n",
      "250/250 [==============================] - 0s 435us/step - loss: 0.3460 - accuracy: 0.8547\n",
      "Epoch 14/20\n",
      "250/250 [==============================] - 0s 392us/step - loss: 0.3449 - accuracy: 0.8571\n",
      "Epoch 15/20\n",
      "250/250 [==============================] - 0s 377us/step - loss: 0.3445 - accuracy: 0.8566\n",
      "Epoch 16/20\n",
      "250/250 [==============================] - 0s 376us/step - loss: 0.3436 - accuracy: 0.8564\n",
      "Epoch 17/20\n",
      "250/250 [==============================] - 0s 425us/step - loss: 0.3413 - accuracy: 0.8577\n",
      "Epoch 18/20\n",
      "250/250 [==============================] - 0s 891us/step - loss: 0.3403 - accuracy: 0.8579\n",
      "Epoch 19/20\n",
      "250/250 [==============================] - 0s 418us/step - loss: 0.3386 - accuracy: 0.8600\n",
      "Epoch 20/20\n",
      "250/250 [==============================] - 0s 427us/step - loss: 0.3384 - accuracy: 0.8602\n"
     ]
    },
    {
     "data": {
      "text/plain": [
       "<keras.callbacks.History at 0x14ce38f50>"
      ]
     },
     "execution_count": 10,
     "metadata": {},
     "output_type": "execute_result"
    }
   ],
   "source": [
    "# Split the data into training and testing sets\n",
    "X_train, X_test, y_train, y_test = train_test_split(X, y, test_size=0.2, random_state=42)\n",
    "\n",
    "# Train the model\n",
    "model.fit(X_train, y_train, epochs=20, batch_size=32, verbose=1)"
   ]
  },
  {
   "cell_type": "code",
   "execution_count": 11,
   "id": "98dda704-182d-4c9a-92a0-c3c584a8d80d",
   "metadata": {},
   "outputs": [
    {
     "name": "stdout",
     "output_type": "stream",
     "text": [
      "63/63 [==============================] - 0s 307us/step\n"
     ]
    }
   ],
   "source": [
    "# Step 6: Evaluate the Model\n",
    "y_pred = model.predict(X_test)\n",
    "y_pred = (y_pred > 0.5).astype(int)  # Convert to binary prediction"
   ]
  },
  {
   "cell_type": "code",
   "execution_count": 12,
   "id": "c6e34bdc-02b5-439d-beee-d8a50b956bc9",
   "metadata": {},
   "outputs": [
    {
     "name": "stdout",
     "output_type": "stream",
     "text": [
      "Accuracy: 0.857\n",
      "Confusion Matrix:\n",
      "[[1536   71]\n",
      " [ 215  178]]\n"
     ]
    }
   ],
   "source": [
    "accuracy = accuracy_score(y_test, y_pred)\n",
    "confusion = confusion_matrix(y_test, y_pred)\n",
    "\n",
    "print(f\"Accuracy: {accuracy}\")\n",
    "print(\"Confusion Matrix:\")\n",
    "print(confusion)"
   ]
  }
 ],
 "metadata": {
  "kernelspec": {
   "display_name": "Python 3 (ipykernel)",
   "language": "python",
   "name": "python3"
  },
  "language_info": {
   "codemirror_mode": {
    "name": "ipython",
    "version": 3
   },
   "file_extension": ".py",
   "mimetype": "text/x-python",
   "name": "python",
   "nbconvert_exporter": "python",
   "pygments_lexer": "ipython3",
   "version": "3.11.0"
  }
 },
 "nbformat": 4,
 "nbformat_minor": 5
}
