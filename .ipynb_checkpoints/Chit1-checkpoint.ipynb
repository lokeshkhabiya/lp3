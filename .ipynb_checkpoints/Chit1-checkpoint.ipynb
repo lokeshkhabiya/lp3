{
 "cells": [
  {
   "cell_type": "markdown",
   "id": "73b44a20",
   "metadata": {},
   "source": [
    "1.Write a program non-recursive and recursive program to calculate Fibonacci\n",
    "numbers and analyze their time and space complexity\n",
    "&\n",
    "Installation of MetaMask and study spending Ether per transaction and Create\n",
    "your own wallet using Metamask for crypto transactions."
   ]
  },
  {
   "cell_type": "code",
   "execution_count": 4,
   "id": "c8fa4e1e",
   "metadata": {},
   "outputs": [
    {
     "name": "stdin",
     "output_type": "stream",
     "text": [
      "Enter the number for Fibonacci calculation:  10\n"
     ]
    },
    {
     "name": "stdout",
     "output_type": "stream",
     "text": [
      "Fibonacci sum for number 10 (non recursive): 55\n",
      "Fibonacci for number 10 (recursive): 55\n"
     ]
    }
   ],
   "source": [
    "# 1 Write a program non-recursive and recursive program to calculate Fibonacci numbers and analyze their time and space complexity.\n",
    "\n",
    "# 1. Non Recursive\n",
    "def fibonacci_non_recursive(n):\n",
    "    if n == 0:\n",
    "        return 0\n",
    "    elif n == 1:\n",
    "        return 1\n",
    "    a, b = 0, 1\n",
    "    for i in range(2, n + 1):\n",
    "        fib = a + b\n",
    "        a = b\n",
    "        b = fib\n",
    "    return b\n",
    "\n",
    "n = int(input(\"Enter the number for Fibonacci calculation: \"))\n",
    "\n",
    "print(\"Fibonacci sum for number\", n, \"(non recursive):\", fibonacci_non_recursive(n))\n",
    "\n",
    "# 2. Recursive\n",
    "def fibonacci_recursive(n):\n",
    "    if (n == 0):\n",
    "        return 0\n",
    "    elif (n == 1):\n",
    "        return 1\n",
    "    else:\n",
    "        return fibonacci_recursive(n - 1) + fibonacci_recursive(n - 2);\n",
    "\n",
    "print(\"Fibonacci for number\", n, \"(recursive):\", fibonacci_recursive(n))"
   ]
  },
  {
   "cell_type": "code",
   "execution_count": 5,
   "id": "d518ce34-3427-4bd4-b422-6f2885a7dffe",
   "metadata": {},
   "outputs": [],
   "source": [
    "# 2 Installation of MetaMask and study spending Ether per transaction and Create your own wallet using Metamask for crypto transactions."
   ]
  },
  {
   "cell_type": "markdown",
   "id": "a629de55-e204-4691-a2e5-4a69d87f1074",
   "metadata": {},
   "source": [
    "## steps \n",
    "### Step 1: Install MetaMask\n",
    "1. **Go to the MetaMask website**: Open your browser and navigate to [https://metamask.io](https://metamask.io).\n",
    "2. **Download the MetaMask Extension**: Click the download button, and select the appropriate extension for your browser (Chrome, Firefox, Edge, or Brave).\n",
    "3. **Install the Extension**: Follow the on-screen prompts to add the MetaMask extension to your browser.\n",
    "4. **Open MetaMask**: Once installed, click on the MetaMask icon in your browser toolbar to open it.\n",
    "\n",
    "### Step 2: Create a New Wallet\n",
    "1. **Get Started**: Click \"Get Started\" on the MetaMask welcome screen.\n",
    "2. **Create a New Wallet**:\n",
    "   - Click \"Create a Wallet.\"\n",
    "   - Set a secure password. This password is needed to unlock MetaMask on your device.\n",
    "   - **Backup your Secret Recovery Phrase**: MetaMask will generate a 12-word seed phrase (Secret Recovery Phrase). Write this down and store it in a secure place. Do not share this phrase with anyone, as it can give access to your wallet.\n",
    "3. **Complete Setup**: After confirming your Secret Recovery Phrase, your wallet setup will be complete.\n",
    "\n",
    "### Step 4: Study Spending Ether per Transaction\n",
    "1. **Understanding Gas Fees**:\n",
    "   - Ether (ETH) is spent for each transaction as \"gas fees,\" which compensate miners for processing and validating transactions on the Ethereum blockchain.\n",
    "   - The gas fee is based on the network demand, transaction complexity, and speed at which you want your transaction processed.\n",
    "2. **Viewing Transaction Fees**:\n",
    "   - When you make a transaction in MetaMask, it will show the estimated gas fee for that transaction.\n",
    "   - You can choose between \"Low,\" \"Medium,\" and \"High\" fees, which affect the transaction speed.\n",
    "3. **Analyze Gas Prices and Costs**:\n",
    "   - For hands-on study, try making a small transaction on the Ethereum test network (e.g., Rinkeby, Goerli) to see how gas fees vary.\n",
    "   - You can also use gas tracking tools (e.g., [Etherscan Gas Tracker](https://etherscan.io/gastracker)) to monitor gas prices over time and understand fee fluctuations."
   ]
  },
  {
   "cell_type": "code",
   "execution_count": null,
   "id": "ab4e2ae2-3466-4ff4-86a1-ce5a6f06e4ab",
   "metadata": {},
   "outputs": [],
   "source": []
  }
 ],
 "metadata": {
  "kernelspec": {
   "display_name": "Python 3 (ipykernel)",
   "language": "python",
   "name": "python3"
  },
  "language_info": {
   "codemirror_mode": {
    "name": "ipython",
    "version": 3
   },
   "file_extension": ".py",
   "mimetype": "text/x-python",
   "name": "python",
   "nbconvert_exporter": "python",
   "pygments_lexer": "ipython3",
   "version": "3.11.0"
  }
 },
 "nbformat": 4,
 "nbformat_minor": 5
}
