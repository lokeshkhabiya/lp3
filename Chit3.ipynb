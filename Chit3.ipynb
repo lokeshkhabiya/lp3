{
 "cells": [
  {
   "cell_type": "markdown",
   "id": "f4003b29-c22f-4a2f-9c6e-c451b3208ebf",
   "metadata": {},
   "source": [
    "## Write a program to solve a fractional Knapsack problem using a greedy method & Write a program in solidity to create Student data. Use the following constructs\n",
    "- Structures\n",
    "- Arrays\n",
    "- Fallback\n",
    "- Deploy this as smart contract on Ethereum and Observe the transaction fee and Gas values"
   ]
  },
  {
   "cell_type": "code",
   "execution_count": 11,
   "id": "652889ae-2303-4bd7-9c6a-92aca83d92d1",
   "metadata": {},
   "outputs": [],
   "source": [
    "# 1\n",
    "class Item: \n",
    "    def __init__(self, value, weight):\n",
    "        self.value = value\n",
    "        self.weight = weight "
   ]
  },
  {
   "cell_type": "code",
   "execution_count": 14,
   "id": "74fb48fa-3206-4a98-b3f7-16e7915465e2",
   "metadata": {},
   "outputs": [],
   "source": [
    "def fractional_knapsack(items, capacity):\n",
    "    items.sort(key=lambda item: item.value / item.weight, reverse=True)\n",
    "    total_value = 0.0 \n",
    "    for item in items:\n",
    "        if capacity >= item.weight:\n",
    "            capacity -= item.weight\n",
    "            total_value += item.value\n",
    "        else:\n",
    "            fraction = capacity / item.weight\n",
    "            total_value += item.value * fraction\n",
    "            break  \n",
    "    return total_value"
   ]
  },
  {
   "cell_type": "code",
   "execution_count": 15,
   "id": "d55cf3ae-c195-40ce-bfe4-b3185497585e",
   "metadata": {},
   "outputs": [
    {
     "name": "stdout",
     "output_type": "stream",
     "text": [
      "Max value we can obtain = 240.0\n"
     ]
    }
   ],
   "source": [
    "if __name__ == \"__main__\":\n",
    "    items = [Item(60, 10), Item(100, 20), Item(120, 30)]\n",
    "    capacity = 50\n",
    "\n",
    "    max_value = fractional_knapsack(items, capacity)\n",
    "    print(f\"Max value we can obtain = { max_value }\")"
   ]
  },
  {
   "cell_type": "code",
   "execution_count": null,
   "id": "8feec20f-ac54-4e7b-a118-bf1f415b7faa",
   "metadata": {},
   "outputs": [],
   "source": []
  },
  {
   "cell_type": "markdown",
   "id": "37e6a504-fe52-4661-a96b-1022f729ce37",
   "metadata": {},
   "source": [
    "// SPDX-License-Identifier: Unlicensed\n",
    "// Solidity program to implement\n",
    "// the above approach\n",
    "pragma solidity ^0.8.0;\n",
    "\n",
    "// Build the Contract\n",
    "contract MarksManagmtSys {\n",
    "    // Create a structure for student details\n",
    "    struct Student {\n",
    "        int ID;\n",
    "        string fName;\n",
    "        string lName;\n",
    "        int marks;\n",
    "    }\n",
    "\n",
    "    address public owner;\n",
    "    int public stdCount = 0;  // Count of students\n",
    "    mapping(int => Student) public stdRecords;  // Mapping of student ID to Student struct\n",
    "\n",
    "    modifier onlyOwner {\n",
    "        require(owner == msg.sender, \"Only owner can call this function\");\n",
    "        _;\n",
    "    }\n",
    "\n",
    "    constructor() {\n",
    "        owner = msg.sender;\n",
    "    }\n",
    "\n",
    "    // Create a function to add the new records\n",
    "    function addNewRecords(int _ID, string memory _fName, string memory _lName, int _marks) public onlyOwner {\n",
    "        // Increase the count by 1\n",
    "        stdCount = stdCount + 1;\n",
    "\n",
    "        // Fetch the student details with the help of stdCount\n",
    "        stdRecords[stdCount] = Student(_ID, _fName, _lName, _marks);\n",
    "    }\n",
    "\n",
    "    // Create a function to add bonus marks to a specific student\n",
    "    function bonusMarks(int _stdCount, int _bonus) public onlyOwner {\n",
    "        require(_stdCount > 0 && _stdCount <= stdCount, \"Invalid student index\");\n",
    "        stdRecords[_stdCount].marks += _bonus;\n",
    "    }\n",
    "\n",
    "    // Function to get a student's details by their index\n",
    "    function getStudentDetails(int _stdCount) public view returns (int, string memory, string memory, int) {\n",
    "        require(_stdCount > 0 && _stdCount <= stdCount, \"Invalid student index\");\n",
    "        Student memory student = stdRecords[_stdCount];\n",
    "        return (student.ID, student.fName, student.lName, student.marks);\n",
    "    }\n",
    "\n",
    "    // Fallback function to receive Ether\n",
    "    receive() external payable {}\n",
    "\n",
    "    // Creating the sender contract (for handling Ether transactions)\n",
    "    function transfer(address payable _to, uint256 _amount) public onlyOwner {\n",
    "        require(address(this).balance >= _amount, \"Insufficient balance\");\n",
    "        _to.transfer(_amount);\n",
    "    }\n",
    "}\n",
    "\n"
   ]
  }
 ],
 "metadata": {
  "kernelspec": {
   "display_name": "Python 3 (ipykernel)",
   "language": "python",
   "name": "python3"
  },
  "language_info": {
   "codemirror_mode": {
    "name": "ipython",
    "version": 3
   },
   "file_extension": ".py",
   "mimetype": "text/x-python",
   "name": "python",
   "nbconvert_exporter": "python",
   "pygments_lexer": "ipython3",
   "version": "3.11.0"
  }
 },
 "nbformat": 4,
 "nbformat_minor": 5
}
